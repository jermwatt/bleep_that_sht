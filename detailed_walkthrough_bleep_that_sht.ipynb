{
 "cells": [
  {
   "cell_type": "markdown",
   "metadata": {},
   "source": [
    "# Bleep That Sh*t\n",
    "\n",
    "- use whisper to build a fun app that makes anyone sound naughty\n",
    "- first pre-process your video - stripping off the audio\n",
    "- transcribe the audio with whisper\n",
    "- choose a set of \"bleep words\" that you want to replace in the audio\n",
    "- post-process the audio locally, replacing each instance of your \"bleep words\" with a bleep\n",
    "- post-process locally - sewing your new bleep audio back onto the original video"
   ]
  },
  {
   "cell_type": "markdown",
   "metadata": {},
   "source": [
    "# 1.  pre-processing utilities"
   ]
  },
  {
   "cell_type": "code",
   "execution_count": 1,
   "metadata": {},
   "outputs": [],
   "source": [
    "from moviepy.editor import VideoFileClip\n",
    "\n",
    "def extract_audio(*, local_file_path: str, audio_filepath: str) -> None:\n",
    "    try:\n",
    "        video = VideoFileClip(local_file_path)\n",
    "        audio = video.audio\n",
    "        if audio is not None:\n",
    "            audio.write_audiofile(audio_filepath, verbose=False, logger=None)\n",
    "            audio.close()\n",
    "            video.close()\n",
    "    except Exception as e:\n",
    "        raise ValueError(f\"error extracting audio from video {local_file_path}, exception: {e}\")"
   ]
  },
  {
   "cell_type": "code",
   "execution_count": 2,
   "metadata": {},
   "outputs": [],
   "source": [
    "videopath = \"data/input/test_2.mp4\"\n",
    "audiopath = \"data/input/test_2.mp3\"\n",
    "extract_audio(local_file_path=videopath, audio_filepath=audiopath)"
   ]
  },
  {
   "cell_type": "markdown",
   "metadata": {},
   "source": [
    "# 2.  compute transcription using whisper"
   ]
  },
  {
   "cell_type": "code",
   "execution_count": 7,
   "metadata": {},
   "outputs": [
    {
     "name": "stdout",
     "output_type": "stream",
     "text": [
      "Detected language: English\n"
     ]
    },
    {
     "name": "stderr",
     "output_type": "stream",
     "text": [
      "100%|██████████| 3060/3060 [00:01<00:00, 1633.08frames/s]\n"
     ]
    }
   ],
   "source": [
    "import whisper_timestamped as whisper\n",
    "\n",
    "model = whisper.load_model(\"tiny\", device=\"cpu\")\n",
    "local_file_path = \"data/input/test_2.mp3\"\n",
    "process_output = whisper.transcribe(model, local_file_path, verbose=False)"
   ]
  },
  {
   "cell_type": "code",
   "execution_count": 11,
   "metadata": {},
   "outputs": [],
   "source": [
    "# extract transcript and timestamped transcript from process_output\n",
    "transcript = process_output[\"text\"]\n",
    "timestamped_transcript = process_output[\"segments\"]"
   ]
  },
  {
   "cell_type": "markdown",
   "metadata": {},
   "source": [
    "# 3.  post-processing utilities"
   ]
  },
  {
   "cell_type": "code",
   "execution_count": 14,
   "metadata": {},
   "outputs": [],
   "source": [
    "from moviepy.editor import VideoFileClip, AudioFileClip, CompositeAudioClip\n",
    "from pydub import AudioSegment \n",
    "bleep_sound = AudioSegment.from_mp3(\"data/input/bleep.mp3\")\n",
    "bleep_first_sec = bleep_sound[1 * 1000: 2 * 1000] \n",
    "\n",
    "# simple word cleaner - remove punctuation etc.,\n",
    "def word_cleaner(word: str) -> str:\n",
    "    return ''.join(e for e in word if e.isalnum()).lower().strip()\n",
    "\n",
    "# collect all timestamped instances of bleep_word in transcript\n",
    "def query_transcript(bleep_words: list,\n",
    "                     timestamped_transcript: list) -> list:\n",
    "    transcript_words = sum([timestamped_transcript[i][\"words\"] for i in range(len(timestamped_transcript))], [])\n",
    "    detected_bleep_words = []\n",
    "    for bleep_word in bleep_words:\n",
    "        detected_bleep_words += [v for v in transcript_words if word_cleaner(v[\"text\"]) == word_cleaner(bleep_word)]\n",
    "    detected_bleep_words = sorted(detected_bleep_words, key=lambda d: d[\"start\"])\n",
    "    return detected_bleep_words\n",
    "\n",
    "def bleep_that_sht(og_video_path: str,\n",
    "                   og_audio_path: str,\n",
    "                   final_video_path: str,\n",
    "                   final_audio_path: str,\n",
    "                   bleep_words: list) -> None:\n",
    "    # extract and save audio from original video\n",
    "    extract_audio(local_file_path=og_video_path, audio_filepath=og_audio_path)\n",
    "\n",
    "    # input og audio file for splicing    \n",
    "    test_sound = AudioSegment.from_mp3(og_audio_path)\n",
    "\n",
    "    # find bleep_words in timestamped transcript\n",
    "    bleep_word_instances = query_transcript(bleep_words, timestamped_transcript)\n",
    "\n",
    "    # start creation of test_sound_bleeped - by splicing in instance 0\n",
    "    test_clip = test_sound[:1]\n",
    "    test_sound_clips = [test_clip]\n",
    "\n",
    "    # loop over instances, thread in clips of bleep\n",
    "    prev_end_time = 1\n",
    "    for instance in bleep_word_instances:\n",
    "        # unpack bleep_word start / end times - converted to microseconds\n",
    "        start_time = int(instance[\"start\"]*1000) - 50\n",
    "        end_time = int(instance[\"end\"]*1000) + 50\n",
    "        \n",
    "        # collect clip of test starting at previous end time, and leading to start_time of next bleep\n",
    "        test_clip = test_sound[prev_end_time:start_time]\n",
    "        \n",
    "        # create bleep clip for this instance\n",
    "        bleep_clip = bleep_first_sec[:(end_time - start_time)]\n",
    "        \n",
    "        # store test and bleep clips\n",
    "        test_sound_clips.append(test_clip)\n",
    "        test_sound_clips.append(bleep_clip)\n",
    "\n",
    "        # update prev_end_time\n",
    "        prev_end_time = end_time\n",
    "        \n",
    "    # create final clip from test\n",
    "    test_clip = test_sound[prev_end_time:]\n",
    "    test_sound_clips.append(test_clip)\n",
    "    \n",
    "    # save bleeped audio\n",
    "    bleeped_test_clip = sum(test_sound_clips)\n",
    "    bleeped_test_clip.export(final_audio_path, format=\"mp3\") \n",
    "    \n",
    "    # load in og video, overlay with bleeped audio\n",
    "    og_video = VideoFileClip(og_video_path)\n",
    "    bleep_audio = AudioFileClip(final_audio_path)\n",
    "    new_audioclip = CompositeAudioClip([bleep_audio])\n",
    "    og_video.audio = new_audioclip\n",
    "    og_video.write_videofile(final_video_path,\n",
    "                             codec='libx264', \n",
    "                             audio_codec='aac', \n",
    "                             temp_audiofile='temp-audio.m4a', \n",
    "                             remove_temp=True)"
   ]
  },
  {
   "cell_type": "code",
   "execution_count": 15,
   "metadata": {},
   "outputs": [
    {
     "name": "stdout",
     "output_type": "stream",
     "text": [
      "Moviepy - Building video bleep_test_1.mp4.\n",
      "MoviePy - Writing audio in temp-audio.m4a\n"
     ]
    },
    {
     "name": "stderr",
     "output_type": "stream",
     "text": [
      "                                                                    \r"
     ]
    },
    {
     "name": "stdout",
     "output_type": "stream",
     "text": [
      "MoviePy - Done.\n",
      "Moviepy - Writing video bleep_test_1.mp4\n",
      "\n"
     ]
    },
    {
     "name": "stderr",
     "output_type": "stream",
     "text": [
      "                                                                \r"
     ]
    },
    {
     "name": "stdout",
     "output_type": "stream",
     "text": [
      "Moviepy - Done !\n",
      "Moviepy - video ready bleep_test_1.mp4\n"
     ]
    }
   ],
   "source": [
    "# define bleep_words\n",
    "og_video_path = \"data/input/test_2.mp4\"\n",
    "og_audio_path = \"data/input/test_2.mp3\"\n",
    "final_video_path = \"bleep_test_1.mp4\"\n",
    "final_audio_path = \"bleep_test_1.mp3\"\n",
    "    \n",
    "bleep_words = [\"Treetz\", \"ice\", \"cream\", \"chocolate\", \"syrup\", \"cookie\", \"hooked\"]\n",
    "bleep_that_sht(og_video_path, \n",
    "               og_audio_path, \n",
    "               final_video_path, \n",
    "               final_audio_path, \n",
    "               bleep_words)"
   ]
  },
  {
   "cell_type": "code",
   "execution_count": 15,
   "metadata": {},
   "outputs": [
    {
     "name": "stdout",
     "output_type": "stream",
     "text": [
      "Moviepy - Building video bleep_test_2.mp4.\n",
      "MoviePy - Writing audio in temp-audio.m4a\n"
     ]
    },
    {
     "name": "stderr",
     "output_type": "stream",
     "text": [
      "                                                                    \r"
     ]
    },
    {
     "name": "stdout",
     "output_type": "stream",
     "text": [
      "MoviePy - Done.\n",
      "Moviepy - Writing video bleep_test_2.mp4\n",
      "\n"
     ]
    },
    {
     "name": "stderr",
     "output_type": "stream",
     "text": [
      "                                                               \r"
     ]
    },
    {
     "name": "stdout",
     "output_type": "stream",
     "text": [
      "Moviepy - Done !\n",
      "Moviepy - video ready bleep_test_2.mp4\n"
     ]
    }
   ],
   "source": [
    "# define bleep_words\n",
    "og_video_path = \"data/input/test_1.mp4\"\n",
    "og_audio_path = \"data/input/test_1.mp3\"\n",
    "final_video_path = \"bleep_test_2.mp4\"\n",
    "final_audio_path = \"bleep_test_2.mp3\"\n",
    "    \n",
    "bleep_words = [\"wiring\", \"stuff\", \"man\"]\n",
    "bleep_that_sht(og_video_path, \n",
    "               og_audio_path, \n",
    "               final_video_path, \n",
    "               final_audio_path, \n",
    "               bleep_words)"
   ]
  },
  {
   "cell_type": "code",
   "execution_count": 16,
   "metadata": {},
   "outputs": [
    {
     "name": "stdout",
     "output_type": "stream",
     "text": [
      "Moviepy - Building video bleep_test_1.mp4.\n",
      "MoviePy - Writing audio in temp-audio.m4a\n"
     ]
    },
    {
     "name": "stderr",
     "output_type": "stream",
     "text": [
      "                                                                    \r"
     ]
    },
    {
     "name": "stdout",
     "output_type": "stream",
     "text": [
      "MoviePy - Done.\n",
      "Moviepy - Writing video bleep_test_1.mp4\n",
      "\n"
     ]
    },
    {
     "name": "stderr",
     "output_type": "stream",
     "text": [
      "                                                               \r"
     ]
    },
    {
     "name": "stdout",
     "output_type": "stream",
     "text": [
      "Moviepy - Done !\n",
      "Moviepy - video ready bleep_test_1.mp4\n"
     ]
    }
   ],
   "source": [
    "# define bleep_words\n",
    "og_video_path = \"data/input/test_1.mp4\"\n",
    "og_audio_path = \"data/input/test_1.mp3\"\n",
    "final_video_path = \"bleep_test_1.mp4\"\n",
    "final_audio_path = \"bleep_test_1.mp3\"\n",
    "    \n",
    "bleep_words = [\"wiring\"]\n",
    "bleep_that_sht(og_video_path, \n",
    "               og_audio_path, \n",
    "               final_video_path, \n",
    "               final_audio_path, \n",
    "               bleep_words)"
   ]
  }
 ],
 "metadata": {
  "kernelspec": {
   "display_name": "content_venv",
   "language": "python",
   "name": "python3"
  },
  "language_info": {
   "codemirror_mode": {
    "name": "ipython",
    "version": 3
   },
   "file_extension": ".py",
   "mimetype": "text/x-python",
   "name": "python",
   "nbconvert_exporter": "python",
   "pygments_lexer": "ipython3",
   "version": "3.10.13"
  }
 },
 "nbformat": 4,
 "nbformat_minor": 2
}
